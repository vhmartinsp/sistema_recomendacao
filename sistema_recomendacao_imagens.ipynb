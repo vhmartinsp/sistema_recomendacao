{
  "nbformat": 4,
  "nbformat_minor": 0,
  "metadata": {
    "colab": {
      "provenance": [],
      "gpuType": "T4",
      "authorship_tag": "ABX9TyOlifEWMWCDL5cNmPHjmtbS",
      "include_colab_link": true
    },
    "kernelspec": {
      "name": "python3",
      "display_name": "Python 3"
    },
    "language_info": {
      "name": "python"
    },
    "accelerator": "GPU"
  },
  "cells": [
    {
      "cell_type": "markdown",
      "metadata": {
        "id": "view-in-github",
        "colab_type": "text"
      },
      "source": [
        "<a href=\"https://colab.research.google.com/github/vhmartinsp/sistema_recomendacao/blob/main/sistema_recomendacao_imagens.ipynb\" target=\"_parent\"><img src=\"https://colab.research.google.com/assets/colab-badge.svg\" alt=\"Open In Colab\"/></a>"
      ]
    },
    {
      "cell_type": "markdown",
      "source": [
        "Configuração do Google Colab"
      ],
      "metadata": {
        "id": "qG0Q82hjs_nL"
      }
    },
    {
      "cell_type": "code",
      "execution_count": 1,
      "metadata": {
        "colab": {
          "base_uri": "https://localhost:8080/"
        },
        "id": "8xRgCCJmsO00",
        "outputId": "2246d480-99df-43fb-c8de-610842194ffb"
      },
      "outputs": [
        {
          "output_type": "stream",
          "name": "stdout",
          "text": [
            "Mounted at /content/drive\n"
          ]
        }
      ],
      "source": [
        "from google.colab import drive\n",
        "drive.mount('/content/drive')"
      ]
    },
    {
      "cell_type": "code",
      "source": [
        "# Colab ou Databricks: suba o arquivo 'kaggle.json'\n",
        "from google.colab import files\n",
        "files.upload()  # Isso irá abrir um pop-up para você fazer o upload do arquivo kaggle.json\n"
      ],
      "metadata": {
        "colab": {
          "base_uri": "https://localhost:8080/",
          "height": 90
        },
        "id": "aqBjzOxFtm7o",
        "outputId": "73486105-51e9-4add-e93e-4832b95f71e1"
      },
      "execution_count": 2,
      "outputs": [
        {
          "output_type": "display_data",
          "data": {
            "text/plain": [
              "<IPython.core.display.HTML object>"
            ],
            "text/html": [
              "\n",
              "     <input type=\"file\" id=\"files-612c7b78-4cd6-47c8-87d1-000d3f88c874\" name=\"files[]\" multiple disabled\n",
              "        style=\"border:none\" />\n",
              "     <output id=\"result-612c7b78-4cd6-47c8-87d1-000d3f88c874\">\n",
              "      Upload widget is only available when the cell has been executed in the\n",
              "      current browser session. Please rerun this cell to enable.\n",
              "      </output>\n",
              "      <script>// Copyright 2017 Google LLC\n",
              "//\n",
              "// Licensed under the Apache License, Version 2.0 (the \"License\");\n",
              "// you may not use this file except in compliance with the License.\n",
              "// You may obtain a copy of the License at\n",
              "//\n",
              "//      http://www.apache.org/licenses/LICENSE-2.0\n",
              "//\n",
              "// Unless required by applicable law or agreed to in writing, software\n",
              "// distributed under the License is distributed on an \"AS IS\" BASIS,\n",
              "// WITHOUT WARRANTIES OR CONDITIONS OF ANY KIND, either express or implied.\n",
              "// See the License for the specific language governing permissions and\n",
              "// limitations under the License.\n",
              "\n",
              "/**\n",
              " * @fileoverview Helpers for google.colab Python module.\n",
              " */\n",
              "(function(scope) {\n",
              "function span(text, styleAttributes = {}) {\n",
              "  const element = document.createElement('span');\n",
              "  element.textContent = text;\n",
              "  for (const key of Object.keys(styleAttributes)) {\n",
              "    element.style[key] = styleAttributes[key];\n",
              "  }\n",
              "  return element;\n",
              "}\n",
              "\n",
              "// Max number of bytes which will be uploaded at a time.\n",
              "const MAX_PAYLOAD_SIZE = 100 * 1024;\n",
              "\n",
              "function _uploadFiles(inputId, outputId) {\n",
              "  const steps = uploadFilesStep(inputId, outputId);\n",
              "  const outputElement = document.getElementById(outputId);\n",
              "  // Cache steps on the outputElement to make it available for the next call\n",
              "  // to uploadFilesContinue from Python.\n",
              "  outputElement.steps = steps;\n",
              "\n",
              "  return _uploadFilesContinue(outputId);\n",
              "}\n",
              "\n",
              "// This is roughly an async generator (not supported in the browser yet),\n",
              "// where there are multiple asynchronous steps and the Python side is going\n",
              "// to poll for completion of each step.\n",
              "// This uses a Promise to block the python side on completion of each step,\n",
              "// then passes the result of the previous step as the input to the next step.\n",
              "function _uploadFilesContinue(outputId) {\n",
              "  const outputElement = document.getElementById(outputId);\n",
              "  const steps = outputElement.steps;\n",
              "\n",
              "  const next = steps.next(outputElement.lastPromiseValue);\n",
              "  return Promise.resolve(next.value.promise).then((value) => {\n",
              "    // Cache the last promise value to make it available to the next\n",
              "    // step of the generator.\n",
              "    outputElement.lastPromiseValue = value;\n",
              "    return next.value.response;\n",
              "  });\n",
              "}\n",
              "\n",
              "/**\n",
              " * Generator function which is called between each async step of the upload\n",
              " * process.\n",
              " * @param {string} inputId Element ID of the input file picker element.\n",
              " * @param {string} outputId Element ID of the output display.\n",
              " * @return {!Iterable<!Object>} Iterable of next steps.\n",
              " */\n",
              "function* uploadFilesStep(inputId, outputId) {\n",
              "  const inputElement = document.getElementById(inputId);\n",
              "  inputElement.disabled = false;\n",
              "\n",
              "  const outputElement = document.getElementById(outputId);\n",
              "  outputElement.innerHTML = '';\n",
              "\n",
              "  const pickedPromise = new Promise((resolve) => {\n",
              "    inputElement.addEventListener('change', (e) => {\n",
              "      resolve(e.target.files);\n",
              "    });\n",
              "  });\n",
              "\n",
              "  const cancel = document.createElement('button');\n",
              "  inputElement.parentElement.appendChild(cancel);\n",
              "  cancel.textContent = 'Cancel upload';\n",
              "  const cancelPromise = new Promise((resolve) => {\n",
              "    cancel.onclick = () => {\n",
              "      resolve(null);\n",
              "    };\n",
              "  });\n",
              "\n",
              "  // Wait for the user to pick the files.\n",
              "  const files = yield {\n",
              "    promise: Promise.race([pickedPromise, cancelPromise]),\n",
              "    response: {\n",
              "      action: 'starting',\n",
              "    }\n",
              "  };\n",
              "\n",
              "  cancel.remove();\n",
              "\n",
              "  // Disable the input element since further picks are not allowed.\n",
              "  inputElement.disabled = true;\n",
              "\n",
              "  if (!files) {\n",
              "    return {\n",
              "      response: {\n",
              "        action: 'complete',\n",
              "      }\n",
              "    };\n",
              "  }\n",
              "\n",
              "  for (const file of files) {\n",
              "    const li = document.createElement('li');\n",
              "    li.append(span(file.name, {fontWeight: 'bold'}));\n",
              "    li.append(span(\n",
              "        `(${file.type || 'n/a'}) - ${file.size} bytes, ` +\n",
              "        `last modified: ${\n",
              "            file.lastModifiedDate ? file.lastModifiedDate.toLocaleDateString() :\n",
              "                                    'n/a'} - `));\n",
              "    const percent = span('0% done');\n",
              "    li.appendChild(percent);\n",
              "\n",
              "    outputElement.appendChild(li);\n",
              "\n",
              "    const fileDataPromise = new Promise((resolve) => {\n",
              "      const reader = new FileReader();\n",
              "      reader.onload = (e) => {\n",
              "        resolve(e.target.result);\n",
              "      };\n",
              "      reader.readAsArrayBuffer(file);\n",
              "    });\n",
              "    // Wait for the data to be ready.\n",
              "    let fileData = yield {\n",
              "      promise: fileDataPromise,\n",
              "      response: {\n",
              "        action: 'continue',\n",
              "      }\n",
              "    };\n",
              "\n",
              "    // Use a chunked sending to avoid message size limits. See b/62115660.\n",
              "    let position = 0;\n",
              "    do {\n",
              "      const length = Math.min(fileData.byteLength - position, MAX_PAYLOAD_SIZE);\n",
              "      const chunk = new Uint8Array(fileData, position, length);\n",
              "      position += length;\n",
              "\n",
              "      const base64 = btoa(String.fromCharCode.apply(null, chunk));\n",
              "      yield {\n",
              "        response: {\n",
              "          action: 'append',\n",
              "          file: file.name,\n",
              "          data: base64,\n",
              "        },\n",
              "      };\n",
              "\n",
              "      let percentDone = fileData.byteLength === 0 ?\n",
              "          100 :\n",
              "          Math.round((position / fileData.byteLength) * 100);\n",
              "      percent.textContent = `${percentDone}% done`;\n",
              "\n",
              "    } while (position < fileData.byteLength);\n",
              "  }\n",
              "\n",
              "  // All done.\n",
              "  yield {\n",
              "    response: {\n",
              "      action: 'complete',\n",
              "    }\n",
              "  };\n",
              "}\n",
              "\n",
              "scope.google = scope.google || {};\n",
              "scope.google.colab = scope.google.colab || {};\n",
              "scope.google.colab._files = {\n",
              "  _uploadFiles,\n",
              "  _uploadFilesContinue,\n",
              "};\n",
              "})(self);\n",
              "</script> "
            ]
          },
          "metadata": {}
        },
        {
          "output_type": "stream",
          "name": "stdout",
          "text": [
            "Saving kaggle.json to kaggle.json\n"
          ]
        },
        {
          "output_type": "execute_result",
          "data": {
            "text/plain": [
              "{'kaggle.json': b'{\"username\":\"victorhugo08\",\"key\":\"d08eabeabc30d1c6a1213aa377f66675\"}'}"
            ]
          },
          "metadata": {},
          "execution_count": 2
        }
      ]
    },
    {
      "cell_type": "code",
      "source": [
        "!pip install kaggle\n"
      ],
      "metadata": {
        "colab": {
          "base_uri": "https://localhost:8080/"
        },
        "id": "IXAtsHq7z4fe",
        "outputId": "3055302a-44d3-4345-c8ec-babe1e0e76f7"
      },
      "execution_count": 3,
      "outputs": [
        {
          "output_type": "stream",
          "name": "stdout",
          "text": [
            "Requirement already satisfied: kaggle in /usr/local/lib/python3.11/dist-packages (1.6.17)\n",
            "Requirement already satisfied: six>=1.10 in /usr/local/lib/python3.11/dist-packages (from kaggle) (1.17.0)\n",
            "Requirement already satisfied: certifi>=2023.7.22 in /usr/local/lib/python3.11/dist-packages (from kaggle) (2025.1.31)\n",
            "Requirement already satisfied: python-dateutil in /usr/local/lib/python3.11/dist-packages (from kaggle) (2.8.2)\n",
            "Requirement already satisfied: requests in /usr/local/lib/python3.11/dist-packages (from kaggle) (2.32.3)\n",
            "Requirement already satisfied: tqdm in /usr/local/lib/python3.11/dist-packages (from kaggle) (4.67.1)\n",
            "Requirement already satisfied: python-slugify in /usr/local/lib/python3.11/dist-packages (from kaggle) (8.0.4)\n",
            "Requirement already satisfied: urllib3 in /usr/local/lib/python3.11/dist-packages (from kaggle) (2.3.0)\n",
            "Requirement already satisfied: bleach in /usr/local/lib/python3.11/dist-packages (from kaggle) (6.2.0)\n",
            "Requirement already satisfied: webencodings in /usr/local/lib/python3.11/dist-packages (from bleach->kaggle) (0.5.1)\n",
            "Requirement already satisfied: text-unidecode>=1.3 in /usr/local/lib/python3.11/dist-packages (from python-slugify->kaggle) (1.3)\n",
            "Requirement already satisfied: charset-normalizer<4,>=2 in /usr/local/lib/python3.11/dist-packages (from requests->kaggle) (3.4.1)\n",
            "Requirement already satisfied: idna<4,>=2.5 in /usr/local/lib/python3.11/dist-packages (from requests->kaggle) (3.10)\n"
          ]
        }
      ]
    },
    {
      "cell_type": "code",
      "source": [
        "import os\n",
        "\n",
        "# Criar o diretório .kaggle se não existir\n",
        "os.makedirs('/root/.kaggle', exist_ok=True)\n",
        "\n",
        "# Mover o arquivo kaggle.json para o diretório correto\n",
        "os.rename(\"/content/kaggle.json\", \"/root/.kaggle/kaggle.json\")\n",
        "\n",
        "# Garantir as permissões adequadas\n",
        "os.chmod(\"/root/.kaggle/kaggle.json\", 600)\n"
      ],
      "metadata": {
        "id": "I6oVjezg0PVJ"
      },
      "execution_count": 4,
      "outputs": []
    },
    {
      "cell_type": "code",
      "source": [
        "!kaggle datasets download -d dataclusterlabs/mobile-phone-image-dataset\n"
      ],
      "metadata": {
        "colab": {
          "base_uri": "https://localhost:8080/"
        },
        "id": "_pAQO_pj1uwx",
        "outputId": "6afcfde6-45ec-4f08-a801-4aa74bdba947"
      },
      "execution_count": 5,
      "outputs": [
        {
          "output_type": "stream",
          "name": "stdout",
          "text": [
            "Dataset URL: https://www.kaggle.com/datasets/dataclusterlabs/mobile-phone-image-dataset\n",
            "License(s): Attribution-NonCommercial-NoDerivatives 4.0 International (CC BY-NC-ND 4.0)\n",
            "Downloading mobile-phone-image-dataset.zip to /content\n",
            " 95% 269M/283M [00:02<00:00, 97.4MB/s]\n",
            "100% 283M/283M [00:02<00:00, 109MB/s] \n"
          ]
        }
      ]
    },
    {
      "cell_type": "code",
      "source": [
        "import zipfile\n",
        "\n",
        "# Descompactar o arquivo ZIP\n",
        "with zipfile.ZipFile('mobile-phone-image-dataset.zip', 'r') as zip_ref:\n",
        "    zip_ref.extractall('mobile-phone-image-dataset')\n"
      ],
      "metadata": {
        "id": "eXnPnsmp1uq9"
      },
      "execution_count": 6,
      "outputs": []
    },
    {
      "cell_type": "code",
      "source": [
        "import os\n",
        "\n",
        "# Caminho para o diretório onde as imagens estão localizadas\n",
        "image_dir = '/content/mobile-phone-image-dataset/Mobile_image/Mobile_image'\n",
        "\n",
        "# Contar o número de arquivos no diretório\n",
        "image_count = len([f for f in os.listdir(image_dir) if os.path.isfile(os.path.join(image_dir, f))])\n",
        "\n",
        "image_count\n"
      ],
      "metadata": {
        "colab": {
          "base_uri": "https://localhost:8080/"
        },
        "id": "1zJ-Yh1-2F6v",
        "outputId": "309c6026-79d1-4ffd-ab15-c0a8a2c6f488"
      },
      "execution_count": 7,
      "outputs": [
        {
          "output_type": "execute_result",
          "data": {
            "text/plain": [
              "100"
            ]
          },
          "metadata": {},
          "execution_count": 7
        }
      ]
    },
    {
      "cell_type": "code",
      "source": [
        "!kaggle datasets download -d sugxm00/laptop-dataset\n"
      ],
      "metadata": {
        "colab": {
          "base_uri": "https://localhost:8080/"
        },
        "id": "wQJPjS_F2590",
        "outputId": "dcc63253-d493-49a0-cb72-691806420079"
      },
      "execution_count": 8,
      "outputs": [
        {
          "output_type": "stream",
          "name": "stdout",
          "text": [
            "Dataset URL: https://www.kaggle.com/datasets/sugxm00/laptop-dataset\n",
            "License(s): MIT\n",
            "Downloading laptop-dataset.zip to /content\n",
            " 98% 160M/163M [00:02<00:00, 96.0MB/s]\n",
            "100% 163M/163M [00:02<00:00, 70.5MB/s]\n"
          ]
        }
      ]
    },
    {
      "cell_type": "code",
      "source": [
        "import zipfile\n",
        "import os\n",
        "\n",
        "# Caminho onde o arquivo ZIP será salvo\n",
        "zip_file = '/content/laptop-dataset.zip'\n",
        "\n",
        "# Caminho de destino para descompactar\n",
        "destination_folder = '/content/laptop-dataset'\n",
        "\n",
        "# Descompactar o arquivo ZIP\n",
        "with zipfile.ZipFile(zip_file, 'r') as zip_ref:\n",
        "    zip_ref.extractall(destination_folder)\n",
        "\n",
        "# Listar o conteúdo da pasta descompactada\n",
        "os.listdir(destination_folder)\n"
      ],
      "metadata": {
        "colab": {
          "base_uri": "https://localhost:8080/"
        },
        "id": "khHILIjU3H3z",
        "outputId": "619b8e6e-5d87-4a1b-bd15-726843810c4c"
      },
      "execution_count": 9,
      "outputs": [
        {
          "output_type": "execute_result",
          "data": {
            "text/plain": [
              "['data']"
            ]
          },
          "metadata": {},
          "execution_count": 9
        }
      ]
    },
    {
      "cell_type": "code",
      "source": [
        "!kaggle datasets download -d ahedjneed/fancy-watche-images"
      ],
      "metadata": {
        "colab": {
          "base_uri": "https://localhost:8080/"
        },
        "id": "H3E7Fy0N3SqY",
        "outputId": "26ea3d3c-b35b-4e8a-bf05-45c88e1300b6"
      },
      "execution_count": 10,
      "outputs": [
        {
          "output_type": "stream",
          "name": "stdout",
          "text": [
            "Dataset URL: https://www.kaggle.com/datasets/ahedjneed/fancy-watche-images\n",
            "License(s): unknown\n",
            "Downloading fancy-watche-images.zip to /content\n",
            " 84% 53.0M/63.4M [00:00<00:00, 85.4MB/s]\n",
            "100% 63.4M/63.4M [00:00<00:00, 95.6MB/s]\n"
          ]
        }
      ]
    },
    {
      "cell_type": "code",
      "source": [
        "import zipfile\n",
        "\n",
        "# Descompactar o arquivo ZIP\n",
        "with zipfile.ZipFile('/content/fancy-watche-images.zip', 'r') as zip_ref:\n",
        "    zip_ref.extractall('/content/fancy-watche-images')\n"
      ],
      "metadata": {
        "id": "fWvT2oZg4Mrx"
      },
      "execution_count": 11,
      "outputs": []
    },
    {
      "cell_type": "code",
      "source": [
        "!kaggle datasets download -d dataclusterlabs/suitcaseluggage-dataset"
      ],
      "metadata": {
        "colab": {
          "base_uri": "https://localhost:8080/"
        },
        "id": "-6tvi82T5LJK",
        "outputId": "46c108de-0814-4163-e262-363a92eabed0"
      },
      "execution_count": 12,
      "outputs": [
        {
          "output_type": "stream",
          "name": "stdout",
          "text": [
            "Dataset URL: https://www.kaggle.com/datasets/dataclusterlabs/suitcaseluggage-dataset\n",
            "License(s): Attribution-NonCommercial-NoDerivatives 4.0 International (CC BY-NC-ND 4.0)\n",
            "Downloading suitcaseluggage-dataset.zip to /content\n",
            " 97% 389M/400M [00:04<00:00, 122MB/s]\n",
            "100% 400M/400M [00:04<00:00, 96.8MB/s]\n"
          ]
        }
      ]
    },
    {
      "cell_type": "code",
      "source": [
        "import zipfile\n",
        "\n",
        "# Descompactar o arquivo ZIP\n",
        "with zipfile.ZipFile('/content/suitcaseluggage-dataset.zip', 'r') as zip_ref:\n",
        "    zip_ref.extractall('/content/suitcaseluggage-dataset')\n"
      ],
      "metadata": {
        "id": "IT-pXmNu5QYB"
      },
      "execution_count": 13,
      "outputs": []
    },
    {
      "cell_type": "markdown",
      "source": [
        "Balancear o número de imagens de cada classe"
      ],
      "metadata": {
        "id": "e9W-Afbv6RFN"
      }
    },
    {
      "cell_type": "code",
      "source": [
        "from tensorflow.keras.preprocessing.image import ImageDataGenerator, load_img, img_to_array\n",
        "import os\n",
        "\n",
        "# Caminhos das imagens\n",
        "path_celular = '/content/mobile-phone-image-dataset/Mobile_image/Mobile_image'\n",
        "path_notebook = '/content/laptop-dataset/data/images'\n",
        "path_relogio = '/content/fancy-watche-images/content/images'\n",
        "path_malas = '/content/suitcaseluggage-dataset/suitcase/suitcase'\n",
        "\n",
        "# Definindo o número desejado de imagens por classe\n",
        "num_images_target = 3000\n",
        "\n",
        "# Função para aplicar Data Augmentation\n",
        "def augment_images(input_folder, output_folder, target_num_images):\n",
        "    if not os.path.exists(output_folder):\n",
        "        os.makedirs(output_folder)\n",
        "\n",
        "    # Inicializando o gerador de aumento de imagem\n",
        "    datagen = ImageDataGenerator(\n",
        "        rotation_range=40,\n",
        "        width_shift_range=0.2,\n",
        "        height_shift_range=0.2,\n",
        "        shear_range=0.2,\n",
        "        zoom_range=0.2,\n",
        "        horizontal_flip=True,\n",
        "        fill_mode='nearest'\n",
        "    )\n",
        "\n",
        "    # Obtendo todas as imagens da pasta de entrada\n",
        "    images = [f for f in os.listdir(input_folder) if f.endswith('.jpg') or f.endswith('.png')]\n",
        "\n",
        "    # Gerar as imagens aumentadas\n",
        "    for image_name in images:\n",
        "        img_path = os.path.join(input_folder, image_name)\n",
        "        img = load_img(img_path)  # Carregar a imagem\n",
        "        x = img_to_array(img)  # Convertê-la em array\n",
        "        x = x.reshape((1,) + x.shape)  # Redimensionar para formato necessário\n",
        "\n",
        "        # Gerar imagens aumentadas\n",
        "        i = 0\n",
        "        for batch in datagen.flow(x, batch_size=1, save_to_dir=output_folder, save_prefix='aug_', save_format='jpeg'):\n",
        "            i += 1\n",
        "            if i >= target_num_images:  # Limitar o número de imagens geradas\n",
        "                break\n",
        "\n",
        "# Aplicar o aumento nas classes com menos imagens\n",
        "augment_images(path_celular, '/content/augmented_mobile_images', 2900)  # Para celular\n",
        "augment_images(path_notebook, '/content/augmented_laptop_images', 2000)  # Para notebook\n",
        "augment_images(path_relogio, '/content/augmented_watch_images', 2800)  # Para relógio\n"
      ],
      "metadata": {
        "id": "V8VWm3Nl6dT9"
      },
      "execution_count": null,
      "outputs": []
    },
    {
      "cell_type": "code",
      "source": [
        "# Verificar o número de imagens em cada pasta\n",
        "print(f\"Celulares: {len(os.listdir('/content/augmented_mobile_images'))}\")\n",
        "print(f\"Notebooks: {len(os.listdir('/content/augmented_laptop_images'))}\")\n",
        "print(f\"Relógios: {len(os.listdir('/content/augmented_watch_images'))}\")\n",
        "print(f\"Malas: {len(os.listdir(path_malas))}\")  # Não aplica aumento para malas\n"
      ],
      "metadata": {
        "id": "qe4c5xVR7Ndt"
      },
      "execution_count": null,
      "outputs": []
    },
    {
      "cell_type": "code",
      "source": [
        "from tensorflow.keras.applications import ResNet50\n",
        "from tensorflow.keras.applications.resnet50 import preprocess_input\n",
        "from tensorflow.keras.preprocessing.image import load_img, img_to_array\n",
        "import numpy as np\n",
        "import pickle\n",
        "\n",
        "# Carregar ResNet50 sem a camada de saída\n",
        "model = ResNet50(weights=\"imagenet\", include_top=False, pooling=\"avg\", input_shape=(224, 224, 3))\n",
        "\n",
        "def extract_features(image_path, model):\n",
        "    \"\"\"\n",
        "    Extrai características (features) de uma imagem usando ResNet50.\n",
        "    \"\"\"\n",
        "    img = load_img(image_path, target_size=(224, 224))  # Redimensiona para 224x224\n",
        "    img_array = img_to_array(img)  # Converte para array NumPy\n",
        "    img_array = np.expand_dims(img_array, axis=0)  # Adiciona dimensão extra (batch)\n",
        "    img_array = preprocess_input(img_array)  # Normaliza a imagem para ResNet50\n",
        "    features = model.predict(img_array)  # Extrai as características\n",
        "    return features.flatten()  # Retorna um vetor unidimensional\n",
        "\n",
        "# Criar dicionário para armazenar as características extraídas\n",
        "feature_db = {}\n",
        "\n",
        "for category, path in image_dirs.items():\n",
        "    feature_db[category] = {}\n",
        "    for image_name in os.listdir(path):\n",
        "        if image_name.endswith(('.jpg', '.png')):\n",
        "            image_path = os.path.join(path, image_name)\n",
        "            feature_db[category][image_name] = extract_features(image_path, model)\n",
        "\n",
        "# Salvar as características extraídas\n",
        "with open(\"features_db.pkl\", \"wb\") as f:\n",
        "    pickle.dump(feature_db, f)"
      ],
      "metadata": {
        "id": "_iZcBXco7NW9"
      },
      "execution_count": null,
      "outputs": []
    },
    {
      "cell_type": "code",
      "source": [
        "from sklearn.metrics.pairwise import cosine_similarity\n",
        "\n",
        "# Carregar o banco de dados de características\n",
        "with open(\"features_db.pkl\", \"rb\") as f:\n",
        "    feature_db = pickle.load(f)\n",
        "\n",
        "def recommend_similar_images(image_path, model, feature_db, top_n=5):\n",
        "    \"\"\"\n",
        "    Retorna as imagens mais similares à imagem de entrada.\n",
        "    \"\"\"\n",
        "    query_features = extract_features(image_path, model)\n",
        "    similarities = []\n",
        "\n",
        "    for category, images in feature_db.items():\n",
        "        for image_name, features in images.items():\n",
        "            similarity = cosine_similarity([query_features], [features])[0][0]\n",
        "            similarities.append((category, image_name, similarity))\n",
        "\n",
        "    # Ordenar pelas imagens mais similares\n",
        "    similarities = sorted(similarities, key=lambda x: x[2], reverse=True)\n",
        "\n",
        "    return similarities[:top_n]  # Retorna top_n imagens similares\n",
        "\n",
        "# # Teste de recomendação\n",
        "# test_image = \"/content/mobile-phone/Mobile_image/Mobile_image/sample.jpg\"\n",
        "# recommendations = recommend_similar_images(test_image, model, feature_db)\n",
        "\n",
        "# print(\"Imagens Recomendadas:\")\n",
        "# for category, image_name, similarity in recommendations:\n",
        "#     print(f\"Categoria: {category}, Imagem: {image_name}, Similaridade: {similarity}\")"
      ],
      "metadata": {
        "id": "KcFJiXug7NMa"
      },
      "execution_count": null,
      "outputs": []
    },
    {
      "cell_type": "markdown",
      "source": [
        "Testando localmente"
      ],
      "metadata": {
        "id": "3OInu93eo3Ge"
      }
    },
    {
      "cell_type": "code",
      "source": [
        "# import matplotlib.pyplot as plt\n",
        "# import cv2\n",
        "\n",
        "# def show_recommendations(image_path, recommendations):\n",
        "#     \"\"\"\n",
        "#     Exibe a imagem de entrada e as imagens recomendadas.\n",
        "#     \"\"\"\n",
        "#     fig, axes = plt.subplots(1, len(recommendations) + 1, figsize=(15, 5))\n",
        "\n",
        "#     # Mostrar a imagem de entrada\n",
        "#     img = cv2.imread(image_path)\n",
        "#     img = cv2.cvtColor(img, cv2.COLOR_BGR2RGB)\n",
        "#     axes[0].imshow(img)\n",
        "#     axes[0].set_title(\"Imagem de Entrada\")\n",
        "#     axes[0].axis(\"off\")\n",
        "\n",
        "#     # Mostrar imagens recomendadas\n",
        "#     for i, (category, image_name, _) in enumerate(recommendations):\n",
        "#         recommended_path = os.path.join(image_dirs[category], image_name)\n",
        "#         img = cv2.imread(recommended_path)\n",
        "#         img = cv2.cvtColor(img, cv2.COLOR_BGR2RGB)\n",
        "#         axes[i + 1].imshow(img)\n",
        "#         axes[i + 1].set_title(f\"Recomendado {i+1}\")\n",
        "#         axes[i + 1].axis(\"off\")\n",
        "\n",
        "#     plt.show()\n",
        "\n",
        "# # Testar exibição das recomendações\n",
        "# show_recommendations(test_image, recommendations)"
      ],
      "metadata": {
        "id": "Pr2kCBZjmOA9"
      },
      "execution_count": null,
      "outputs": []
    },
    {
      "cell_type": "markdown",
      "source": [
        "Testando com a Flask API"
      ],
      "metadata": {
        "id": "zPwU25Y-o5R-"
      }
    },
    {
      "cell_type": "code",
      "source": [
        "!pip install flask flask-cors tensorflow scikit-learn opencv-python matplotlib\n"
      ],
      "metadata": {
        "id": "qXPnweoosN-T"
      },
      "execution_count": null,
      "outputs": []
    },
    {
      "cell_type": "code",
      "source": [
        "from flask import Flask, request, jsonify\n",
        "from flask_cors import CORS\n",
        "import os\n",
        "import pickle\n",
        "import numpy as np\n",
        "import tempfile\n",
        "\n",
        "# Inicializar Flask\n",
        "app = Flask(_name_)\n",
        "CORS(app)  # Habilita CORS para permitir acesso de outros domínios"
      ],
      "metadata": {
        "id": "T36gPY9Ko7hd"
      },
      "execution_count": null,
      "outputs": []
    },
    {
      "cell_type": "code",
      "source": [
        "# Carregar banco de características\n",
        "with open(\"features_db.pkl\", \"rb\") as f:\n",
        "    feature_db = pickle.load(f)\n",
        "\n",
        "# Diretórios das imagens por categoria\n",
        "image_dirs = {\n",
        "    \"Celular\": \"static/celular\",\n",
        "    \"Notebook\": \"static/notebook\",\n",
        "    \"Relógio\": \"static/relogio\",\n",
        "    \"Malas\": \"static/malas\"\n",
        "}"
      ],
      "metadata": {
        "id": "bIex8bRJsO7j"
      },
      "execution_count": null,
      "outputs": []
    },
    {
      "cell_type": "code",
      "source": [
        "@app.route(\"/recommend\", methods=[\"POST\"])\n",
        "def recommend():\n",
        "    \"\"\"Recebe uma imagem e retorna recomendações de imagens similares.\"\"\"\n",
        "    if \"image\" not in request.files:\n",
        "        return jsonify({\"error\": \"Nenhuma imagem enviada\"}), 400\n",
        "\n",
        "    file = request.files[\"image\"]\n",
        "    temp_file = tempfile.NamedTemporaryFile(delete=False, suffix=\".jpg\")\n",
        "    file.save(temp_file.name)\n",
        "\n",
        "    recommendations = recommend_similar_images(temp_file.name)\n",
        "    os.remove(temp_file.name)  # Remove o arquivo temporário\n",
        "\n",
        "    response = []\n",
        "    for category, image_name, similarity in recommendations:\n",
        "        image_url = f\"/static/{category}/{image_name}\"  # Caminho da imagem recomendada\n",
        "        response.append({\"category\": category, \"image\": image_url, \"similarity\": similarity})\n",
        "\n",
        "    return jsonify(response)\n",
        "\n",
        "if _name_ == \"_main_\":\n",
        "    app.run(debug=True, host=\"0.0.0.0\", port=5000)"
      ],
      "metadata": {
        "id": "j9kYLeHjslCt"
      },
      "execution_count": null,
      "outputs": []
    },
    {
      "cell_type": "code",
      "source": [
        "!python app.py\n"
      ],
      "metadata": {
        "id": "QmXRtgL0sxQD"
      },
      "execution_count": null,
      "outputs": []
    },
    {
      "cell_type": "markdown",
      "source": [
        "Criando uma interface WEB com Streamlit"
      ],
      "metadata": {
        "id": "HENVAVfNs6Fa"
      }
    },
    {
      "cell_type": "code",
      "source": [
        "!pip install streamlit"
      ],
      "metadata": {
        "id": "HiZqfhxltChG"
      },
      "execution_count": null,
      "outputs": []
    },
    {
      "cell_type": "code",
      "source": [
        "import streamlit as st\n",
        "import requests\n",
        "import tempfile\n",
        "import os\n",
        "from PIL import Image\n",
        "\n",
        "# URL da API Flask\n",
        "API_URL = \"http://127.0.0.1:5000/recommend\"\n",
        "\n",
        "st.title(\"🔍 Sistema de Recomendação de Imagens\")\n",
        "\n",
        "st.write(\"Carregue uma imagem e veja as recomendações mais similares!\")\n",
        "\n",
        "# Upload da imagem\n",
        "uploaded_file = st.file_uploader(\"Escolha uma imagem...\", type=[\"jpg\", \"png\", \"jpeg\"])\n",
        "\n",
        "if uploaded_file is not None:\n",
        "    # Criar arquivo temporário\n",
        "    with tempfile.NamedTemporaryFile(delete=False, suffix=\".jpg\") as temp_file:\n",
        "        temp_file.write(uploaded_file.read())\n",
        "        temp_image_path = temp_file.name\n",
        "\n",
        "    # Exibir imagem carregada\n",
        "    st.image(temp_image_path, caption=\"Imagem de Entrada\", use_column_width=True)\n",
        "\n",
        "    # Enviar imagem para a API Flask\n",
        "    with open(temp_image_path, \"rb\") as img_file:\n",
        "        response = requests.post(API_URL, files={\"image\": img_file})\n",
        "\n",
        "    if response.status_code == 200:\n",
        "        recommendations = response.json()\n",
        "\n",
        "        st.subheader(\"Imagens Recomendadas:\")\n",
        "        cols = st.columns(len(recommendations))  # Criar colunas para exibir imagens lado a lado\n",
        "\n",
        "        for i, rec in enumerate(recommendations):\n",
        "            image_url = rec[\"image\"]\n",
        "            similarity = rec[\"similarity\"]\n",
        "            cols[i].image(image_url, caption=f\"Sim: {similarity:.2f}\", use_column_width=True)\n",
        "\n",
        "    os.remove(temp_image_path)  # Remover imagem temporária\n",
        "!streamlit run streamlit_app.py"
      ],
      "metadata": {
        "id": "AIvIbAdXs_Gw"
      },
      "execution_count": null,
      "outputs": []
    }
  ]
}